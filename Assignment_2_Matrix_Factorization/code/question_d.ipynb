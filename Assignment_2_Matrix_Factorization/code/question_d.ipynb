{
 "cells": [
  {
   "cell_type": "code",
   "execution_count": null,
   "metadata": {},
   "outputs": [],
   "source": []
  },
  {
   "cell_type": "code",
   "execution_count": null,
   "metadata": {},
   "outputs": [],
   "source": [
    "#a patch with mainly a single color.\n",
    "# img[:, X_mid-N_size/2:X_mid+N_size/2, Y_mid-N_size/2:Y_mid+N_size/2]  \n",
    "# X_mid, Y_mid = 825, 1325 and N_size = 50\n",
    "\n",
    "crop_a = img[:, 600:650, 800:850]\n",
    "plt.imshow(rearrange(crop_a, 'c h w -> h w c'))\n"
   ]
  },
  {
   "cell_type": "code",
   "execution_count": null,
   "metadata": {},
   "outputs": [],
   "source": [
    "#a patch with 2-3 different colors.\n",
    "# img[:, X_mid-N_size/2:X_mid+N_size/2, Y_mid-N_size/2:Y_mid+N_size/2]  \n",
    "# X_mid, Y_mid = 850, 650 and N_size = 50\n",
    "\n",
    "crop_b = img[:, 650:700, 825:875]\n",
    "plt.imshow(rearrange(crop_b, 'c h w -> h w c'))"
   ]
  },
  {
   "cell_type": "code",
   "execution_count": null,
   "metadata": {},
   "outputs": [],
   "source": [
    "# a patch with at least 5 different colors.\n",
    "# img[:, X_mid-N_size/2:X_mid+N_size/2, Y_mid-N_size/2:Y_mid+N_size/2]  \n",
    "# X_mid, Y_mid = 800, 950 and N_size = 50\n",
    "\n",
    "crop_c = img[:, 775:825, 925:975]\n",
    "plt.imshow(rearrange(crop_c, 'c h w -> h w c'))"
   ]
  },
  {
   "cell_type": "code",
   "execution_count": null,
   "metadata": {},
   "outputs": [],
   "source": [
    "def plot_reconstructed_img_d(reconstructed_img3D, masked_img, img, X_mid, Y_mid, RMSE, PSNR, title, N_size, r):    \n",
    "    fig = plt.figure(figsize=(5, 2.5))\n",
    "    gs = gridspec.GridSpec(1, 2, width_ratios=[1, 1])\n",
    "    \n",
    "    ax0 = plt.subplot(gs[0])\n",
    "    ax1 = plt.subplot(gs[1])\n",
    "\n",
    "    reconstructed_img = img.clone()\n",
    "    reconstructed_img[:, X_mid-int(N_size/2):X_mid+int(N_size/2), Y_mid-int(N_size/2):Y_mid+int(N_size/2)] = torch.tensor(reconstructed_img3D)\n",
    "    ax0.imshow(rearrange(reconstructed_img, 'c h w -> h w c'))\n",
    "    ax0.set_title(f\"Reconstructed Image [r = {r}]\")\n",
    "\n",
    "    ax1.imshow(rearrange(img, 'c h w -> h w c'))\n",
    "    ax1.set_title(f\"original image\")\n",
    "\n",
    "    for a in [ax0, ax1]:\n",
    "        a.axis(\"off\")\n",
    "\n",
    "    plt.suptitle(title, weight='bold')\n",
    "    # fig.suptitle(f\"RMSE = {RMSE:.2f}, PSNR = {PSNR:.2f}\", weight='bold', y=1.0)\n",
    "    plt.tight_layout()"
   ]
  },
  {
   "cell_type": "code",
   "execution_count": null,
   "metadata": {},
   "outputs": [],
   "source": [
    "def reconstruct_img_d(img, k, N_size, X_mid, Y_mid, title):\n",
    "    # output: reconstructed_img_scaled, reconstructed_img3D\n",
    "    #          for plotting , for metrics\n",
    "    \n",
    "    new_img = img[:, int(X_mid-N_size/2):int(X_mid+N_size/2), int(Y_mid-N_size/2):int(Y_mid+N_size/2)]\n",
    "\n",
    "    # convert masked image into a 2D tensor to factorise\n",
    "    new_img_2D = new_img.reshape(-1, new_img.size(-1))\n",
    "\n",
    "    W, H, loss = factorize(new_img_2D, k, device=device)\n",
    "    reconstructed_img = torch.mm(W, H)\n",
    "\n",
    "    # convert the reconstructed 2D tensor to 3D tensor\n",
    "    reconstructed_img3D = reconstructed_img.reshape(3, new_img.shape[1], -1)\n",
    "    \n",
    "    # Reshaping and Scaling \n",
    "    reconstructed_img_scaled = reshaping(reconstructed_img3D)\n",
    "    \n",
    "    # calculate metrics\n",
    "    RMSE, PSNR = metrics(reconstructed_img3D, new_img)\n",
    "    \n",
    "    #plot reconstructed and masked image\n",
    "    plot_reconstructed_img_d(reconstructed_img_scaled, new_img, img, X_mid, Y_mid, RMSE, PSNR, title, N_size, k)\n",
    "    plot_reconstructed_img(reconstructed_img_scaled, new_img, RMSE, PSNR, 'Zoomed in Comparision', N_size)\n",
    "    return new_img, RMSE, PSNR"
   ]
  },
  {
   "cell_type": "code",
   "execution_count": null,
   "metadata": {},
   "outputs": [],
   "source": [
    "def plot_metrics(r_values, RMSE_values, PSNR_values):\n",
    "    print(\"r_values:\", r_values)\n",
    "    print(\"RMSE_values:\", RMSE_values)\n",
    "    print(\"PSNR_values:\", PSNR_values)\n",
    "    fig, axs = plt.subplots(1, 2, figsize=(5, 2.5))  \n",
    "    axs[0].plot(r_values, RMSE_values, marker='o', label='RMSE')\n",
    "    axs[0].set_title('RMSE vs r size')\n",
    "    axs[0].grid(True)\n",
    "    axs[0].legend()\n",
    "    \n",
    "    axs[1].plot(r_values, PSNR_values, marker='o', label='PSNR')\n",
    "    axs[1].set_title('PSNR vs r size')\n",
    "    axs[1].grid(True)\n",
    "    axs[1].legend()\n",
    "    \n",
    "    plt.tight_layout()\n",
    "    plt.show()"
   ]
  },
  {
   "cell_type": "code",
   "execution_count": null,
   "metadata": {},
   "outputs": [],
   "source": [
    "# a.An Area with mainly a Single Color\n",
    "r = [5,10,25,50]\n",
    "RMSE_a = []\n",
    "PSNR_a = []\n",
    "for i in range(4):\n",
    "    masked_img_a, RMSE, PSNR = reconstruct_img_d(img, r[i], 50, 625, 825, 'An Area with mainly a Single Color')\n",
    "    RMSE_a.append(RMSE)\n",
    "    PSNR_a.append(PSNR)"
   ]
  },
  {
   "cell_type": "code",
   "execution_count": null,
   "metadata": {},
   "outputs": [],
   "source": [
    "plot_metrics(r, RMSE_a, PSNR_a)\n"
   ]
  },
  {
   "cell_type": "code",
   "execution_count": null,
   "metadata": {},
   "outputs": [],
   "source": [
    "# b.A patch with 2-3 different colors.\n",
    "r = [5,10,25,50]\n",
    "RMSE_b = []\n",
    "PSNR_b = []\n",
    "for i in range(4):\n",
    "    masked_img_b, RMSE, PSNR = reconstruct_img_d(img, r[i], 50, 675, 850, 'A Patch with 2-3 Different Colors')\n",
    "    RMSE_b.append(RMSE)\n",
    "    PSNR_b.append(PSNR)"
   ]
  },
  {
   "cell_type": "code",
   "execution_count": null,
   "metadata": {},
   "outputs": [],
   "source": [
    "plot_metrics(r, RMSE_b, PSNR_b)"
   ]
  },
  {
   "cell_type": "code",
   "execution_count": null,
   "metadata": {},
   "outputs": [],
   "source": [
    "\n",
    "# c.A Patch with at least 5 Different colors.\n",
    "r = [5,10,25,50]\n",
    "RMSE_c = []\n",
    "PSNR_c = []\n",
    "for i in range(4):\n",
    "    masked_img_c, RMSE, PSNR = reconstruct_img_d(img, r[i], 50, 800, 950, 'A Patch with at least 5 different colors')\n",
    "    RMSE_c.append(RMSE)\n",
    "    PSNR_c.append(PSNR)"
   ]
  },
  {
   "cell_type": "code",
   "execution_count": null,
   "metadata": {},
   "outputs": [],
   "source": [
    "plot_metrics(r, RMSE_c, PSNR_c)"
   ]
  }
 ],
 "metadata": {
  "language_info": {
   "name": "python"
  }
 },
 "nbformat": 4,
 "nbformat_minor": 2
}
